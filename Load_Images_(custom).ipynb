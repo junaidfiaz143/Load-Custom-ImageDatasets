{
  "nbformat": 4,
  "nbformat_minor": 0,
  "metadata": {
    "colab": {
      "name": "Load Images (custom).ipynb",
      "version": "0.3.2",
      "provenance": [],
      "collapsed_sections": []
    },
    "kernelspec": {
      "name": "python3",
      "display_name": "Python 3"
    },
    "accelerator": "GPU"
  },
  "cells": [
    {
      "cell_type": "code",
      "metadata": {
        "id": "gKOnHePnfe8y",
        "colab_type": "code",
        "colab": {}
      },
      "source": [
        "# Run this cell to mount your Google Drive.\n",
        "from google.colab import drive\n",
        "drive.mount('/content/drive')"
      ],
      "execution_count": 0,
      "outputs": []
    },
    {
      "cell_type": "code",
      "metadata": {
        "id": "9LaWfJ1Pfnni",
        "colab_type": "code",
        "colab": {}
      },
      "source": [
        "from tensorflow.keras.preprocessing.image import ImageDataGenerator\n",
        "import os\n",
        "import cv2\n",
        "import numpy as np"
      ],
      "execution_count": 0,
      "outputs": []
    },
    {
      "cell_type": "code",
      "metadata": {
        "id": "SQRr3KzeqR-5",
        "colab_type": "code",
        "colab": {}
      },
      "source": [
        "data_gen = ImageDataGenerator()"
      ],
      "execution_count": 0,
      "outputs": []
    },
    {
      "cell_type": "code",
      "metadata": {
        "id": "OWcpEkdef1ws",
        "colab_type": "code",
        "colab": {}
      },
      "source": [
        "#define a function to load images from the given path using opencv and resize it to the given target width and height\n",
        "def get_data(path, width, height, label):\n",
        "  data = []\n",
        "  labels = []\n",
        "\n",
        "  for image in os.listdir(path):\n",
        "    img = cv2.imread(os.path.join(path, image))\n",
        "    data.append(cv2.resize(img, (width, height)))\n",
        "    labels.append(label)\n",
        "    \n",
        "  data = np.array(data).astype(np.float32)\n",
        "  labels = np.array(labels).astype(np.float32)\n",
        "  return data, labels"
      ],
      "execution_count": 0,
      "outputs": []
    },
    {
      "cell_type": "code",
      "metadata": {
        "id": "oSjv_vQSf_VC",
        "colab_type": "code",
        "colab": {}
      },
      "source": [
        "#define path for training data and also give label to it\n",
        "train_normal_path = \"./drive/My Drive/Data/chest x-ray dataset/chest_xray/train/NORMAL\"\n",
        "train_pneumonia_path = \"./drive/My Drive/Data/chest x-ray dataset/chest_xray/train/PNEUMONIA\"\n",
        "\n",
        "X_train_normal_data, y_train_normal_label = get_data(train_normal_path, 224, 224, 0.)\n",
        "X_train_pneumonia_data, y_train_pneumonia_label = get_data(train_pneumonia_path, 224, 224, 1.)"
      ],
      "execution_count": 0,
      "outputs": []
    },
    {
      "cell_type": "code",
      "metadata": {
        "id": "pNhPeIX_gqES",
        "colab_type": "code",
        "outputId": "d4c74a77-7c9b-4f42-b325-9c0da557172d",
        "colab": {
          "base_uri": "https://localhost:8080/",
          "height": 166
        }
      },
      "source": [
        "#display training data info to check if it is loaded fully or not\n",
        "print(\"Total NORMAL Train Images: \", len(X_train_normal_data))\n",
        "print(\"Shape of NORMAL Train Images: \", X_train_normal_data[0].shape)\n",
        "print(\"Output for NORMAL Train Images: \", y_train_normal_label[0])\n",
        "\n",
        "print(\"+-----------------------+\")\n",
        "\n",
        "#check PNEUMONIA training data\n",
        "print(\"Total PNEUMONIA Train Images: \", len(X_train_pneumonia_data))\n",
        "print(\"Shape of PNEUMONIA Train Images: \", X_train_pneumonia_data[0].shape)\n",
        "print(\"Output for PNEUMONIA Train Images: \", y_train_pneumonia_label[0])\n",
        "\n",
        "print(\"+-----------------------+\")\n",
        "\n",
        "print(\"Total training images: \", (len(X_train_normal_data) + len(X_train_pneumonia_data)))"
      ],
      "execution_count": 0,
      "outputs": [
        {
          "output_type": "stream",
          "text": [
            "Total NORMAL Train Images:  1261\n",
            "Shape of NORMAL Train Images:  (224, 224, 3)\n",
            "Output for NORMAL Train Images:  0.0\n",
            "+-----------------------+\n",
            "Total PNEUMONIA Train Images:  3795\n",
            "Shape of PNEUMONIA Train Images:  (224, 224, 3)\n",
            "Output for PNEUMONIA Train Images:  1.0\n",
            "+-----------------------+\n",
            "Total training images:  5056\n"
          ],
          "name": "stdout"
        }
      ]
    },
    {
      "cell_type": "code",
      "metadata": {
        "id": "Pd7AA1LWg96w",
        "colab_type": "code",
        "outputId": "df2f80c2-d506-4c98-dba1-c309df7701dd",
        "colab": {
          "base_uri": "https://localhost:8080/",
          "height": 66
        }
      },
      "source": [
        "#concatenate output training data arrays to make one training array, consist of features and labels\n",
        "\n",
        "train_input = np.concatenate((X_train_normal_data, X_train_pneumonia_data), axis=0)\n",
        "train_output = np.concatenate((y_train_normal_label, y_train_pneumonia_label), axis=0)\n",
        "\n",
        "print(\"Total output labels: \", len(train_output))\n",
        "print(\"NORMAL output labels: \", train_output[len(X_train_normal_data) - 1])\n",
        "print(\"PNEUMONIAL output labels: \", train_output[len(X_train_normal_data)])"
      ],
      "execution_count": 0,
      "outputs": [
        {
          "output_type": "stream",
          "text": [
            "Total output labels:  5056\n",
            "NORMAL output labels:  0.0\n",
            "PNEUMONIAL output labels:  1.0\n"
          ],
          "name": "stdout"
        }
      ]
    },
    {
      "cell_type": "code",
      "metadata": {
        "id": "-g0IaBoKhRgC",
        "colab_type": "code",
        "colab": {}
      },
      "source": [
        "#feed final training data array to keras.preprocessing.image ImageDataGenerator\n",
        "train_data = data_gen.flow(x=train_input, y=train_output, batch_size=32)"
      ],
      "execution_count": 0,
      "outputs": []
    },
    {
      "cell_type": "code",
      "metadata": {
        "id": "rjtz9zXrhj-C",
        "colab_type": "code",
        "outputId": "44836cac-dba7-44ea-e88f-34032dd281d3",
        "colab": {
          "base_uri": "https://localhost:8080/",
          "height": 283
        }
      },
      "source": [
        "#checking input shape\n",
        "X, y = train_data.next()\n",
        "print(\"Input data shape: \", X[0].shape)\n",
        "print('Batch shape=%s, min=%.3f, max=%.3f' % (X.shape, X.min(), X.max()))\n",
        "print(\"sample output: \", y[0])\n",
        "print(\"sample output: \", y[1])\n",
        "print(\"sample output: \", y[2])\n",
        "print(\"sample output: \", y[3])\n",
        "print(\"sample output: \", y[4])\n",
        "print(\"sample output: \", y[5])\n",
        "print(\"sample output: \", y[6])\n",
        "print(\"sample output: \", y[8])\n",
        "print(\"sample output: \", y[9])\n",
        "print(\"sample output: \", y[10])\n",
        "print(\"sample output: \", y[11])\n",
        "print(\"sample output: \", y[12])\n",
        "print(\"sample output: \", y[13])\n",
        "print(\"sample output: \", y[14])"
      ],
      "execution_count": 0,
      "outputs": [
        {
          "output_type": "stream",
          "text": [
            "Input data shape:  (224, 224, 3)\n",
            "Batch shape=(32, 224, 224, 3), min=0.000, max=255.000\n",
            "sample output:  0.0\n",
            "sample output:  0.0\n",
            "sample output:  1.0\n",
            "sample output:  1.0\n",
            "sample output:  0.0\n",
            "sample output:  1.0\n",
            "sample output:  1.0\n",
            "sample output:  1.0\n",
            "sample output:  0.0\n",
            "sample output:  1.0\n",
            "sample output:  0.0\n",
            "sample output:  1.0\n",
            "sample output:  0.0\n",
            "sample output:  1.0\n"
          ],
          "name": "stdout"
        }
      ]
    },
    {
      "cell_type": "code",
      "metadata": {
        "id": "kXgns528imos",
        "colab_type": "code",
        "colab": {}
      },
      "source": [
        ""
      ],
      "execution_count": 0,
      "outputs": []
    }
  ]
}